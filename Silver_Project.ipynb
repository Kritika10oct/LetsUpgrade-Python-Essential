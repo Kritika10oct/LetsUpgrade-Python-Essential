{
  "nbformat": 4,
  "nbformat_minor": 0,
  "metadata": {
    "colab": {
      "name": "Untitled8.ipynb",
      "provenance": [],
      "authorship_tag": "ABX9TyMCEp0e2HStHaFi6CROy9cZ",
      "include_colab_link": true
    },
    "kernelspec": {
      "name": "python3",
      "display_name": "Python 3"
    }
  },
  "cells": [
    {
      "cell_type": "markdown",
      "metadata": {
        "id": "view-in-github",
        "colab_type": "text"
      },
      "source": [
        "<a href=\"https://colab.research.google.com/github/Kritika10oct/LetsUpgrade-Python-Essential/blob/master/Silver_Project.ipynb\" target=\"_parent\"><img src=\"https://colab.research.google.com/assets/colab-badge.svg\" alt=\"Open In Colab\"/></a>"
      ]
    },
    {
      "cell_type": "code",
      "metadata": {
        "id": "m0RNkB3jSu7a",
        "colab_type": "code",
        "colab": {}
      },
      "source": [
        "def takePlayerInput():\n",
        "    player = \"blank\"\n",
        "    while not( player.lower() == \"r\" or player.lower() == \"p\" or player.lower() == \"s\") :\n",
        "        player = input(\"Please Enter your input out of - R | P | S = \")\n",
        "    return player.lower()"
      ],
      "execution_count": 1,
      "outputs": []
    },
    {
      "cell_type": "code",
      "metadata": {
        "id": "xrHi6DSDS9nf",
        "colab_type": "code",
        "colab": {
          "base_uri": "https://localhost:8080/",
          "height": 106
        },
        "outputId": "97f547ba-ed6d-4d4e-ae80-29a3c60dcc39"
      },
      "source": [
        "takePlayerInput()"
      ],
      "execution_count": 3,
      "outputs": [
        {
          "output_type": "stream",
          "text": [
            "Please Enter your input out of - R | P | S = q\n",
            "Please Enter your input out of - R | P | S = v\n",
            "Please Enter your input out of - R | P | S = r\n"
          ],
          "name": "stdout"
        },
        {
          "output_type": "execute_result",
          "data": {
            "application/vnd.google.colaboratory.intrinsic+json": {
              "type": "string"
            },
            "text/plain": [
              "'r'"
            ]
          },
          "metadata": {
            "tags": []
          },
          "execution_count": 3
        }
      ]
    },
    {
      "cell_type": "code",
      "metadata": {
        "id": "Jprg5VQ7TPBx",
        "colab_type": "code",
        "colab": {}
      },
      "source": [
        "import random \n",
        "\n",
        "def getBotInput():\n",
        "    lst = ['r','s','p']\n",
        "    return random.choice(lst)"
      ],
      "execution_count": 5,
      "outputs": []
    },
    {
      "cell_type": "code",
      "metadata": {
        "id": "Yw03RJURTQTG",
        "colab_type": "code",
        "colab": {
          "base_uri": "https://localhost:8080/",
          "height": 35
        },
        "outputId": "673e83e2-2266-4ea3-a299-a79191c05752"
      },
      "source": [
        "getBotInput()"
      ],
      "execution_count": 6,
      "outputs": [
        {
          "output_type": "execute_result",
          "data": {
            "application/vnd.google.colaboratory.intrinsic+json": {
              "type": "string"
            },
            "text/plain": [
              "'s'"
            ]
          },
          "metadata": {
            "tags": []
          },
          "execution_count": 6
        }
      ]
    },
    {
      "cell_type": "code",
      "metadata": {
        "id": "Lj-F0-fiTZZo",
        "colab_type": "code",
        "colab": {}
      },
      "source": [
        "def checkWinner(player,bot):\n",
        "    if player == 'r' and bot == \"r\":\n",
        "        return \"draw\"\n",
        "    elif player == \"r\" and bot == \"p\":\n",
        "        return \"bot\"\n",
        "    elif player == \"r\" and bot == \"s\":\n",
        "        return \"player\"\n",
        "    elif player == \"p\" and bot == \"s\":\n",
        "        return \"bot\"\n",
        "    elif player == \"p\" and bot == \"r\":\n",
        "        return \"player\"\n",
        "    elif player == \"p\" and bot == \"p\":\n",
        "        return \"draw\"\n",
        "    elif player == \"s\" and bot == \"r\":\n",
        "        return \"bot\"\n",
        "    elif player == \"s\" and bot == \"p\":\n",
        "        return \"player\"\n",
        "    elif player == \"s\" and bot == \"s\":\n",
        "        return \"draw\"\n",
        "    else:\n",
        "        return \"draw\""
      ],
      "execution_count": 7,
      "outputs": []
    },
    {
      "cell_type": "code",
      "metadata": {
        "id": "yaIbuOmATeRp",
        "colab_type": "code",
        "colab": {
          "base_uri": "https://localhost:8080/",
          "height": 35
        },
        "outputId": "db21574b-bbff-4dc6-e030-43d251fbb1d9"
      },
      "source": [
        "checkWinner(player = \"r\",bot = \"p\")"
      ],
      "execution_count": 8,
      "outputs": [
        {
          "output_type": "execute_result",
          "data": {
            "application/vnd.google.colaboratory.intrinsic+json": {
              "type": "string"
            },
            "text/plain": [
              "'bot'"
            ]
          },
          "metadata": {
            "tags": []
          },
          "execution_count": 8
        }
      ]
    },
    {
      "cell_type": "code",
      "metadata": {
        "id": "WVpUadoXTmGa",
        "colab_type": "code",
        "colab": {}
      },
      "source": [
        "def rockPaperScissor():\n",
        "    endTheGame = \"n\"\n",
        "    player_score = 0 \n",
        "    bot_score = 0\n",
        "    while endTheGame.lower() != \"y\":\n",
        "        ply = takePlayerInput()\n",
        "        bt = getBotInput()\n",
        "        print('Bot Entered - ', bt)\n",
        "        print(\" \")\n",
        "        winner = checkWinner(player = ply, bot = bt)\n",
        "        print(\" Winner is - \", winner)\n",
        "        print(\" \")\n",
        "        if winner == \"player\":\n",
        "            player_score += 2\n",
        "        elif winner == \"bot\":\n",
        "            bot_score += 2\n",
        "        else :\n",
        "            player_score += 1\n",
        "            bot_score += 1\n",
        "            \n",
        "        print(\"----Score board ----\")\n",
        "        print(\"---PLAYER -----\",player_score)\n",
        "        print(\"---Bot --------\",bot_score)\n",
        "        print(\" \")\n",
        "        endTheGame = input(\"You want to end Y/N - \")"
      ],
      "execution_count": 9,
      "outputs": []
    },
    {
      "cell_type": "code",
      "metadata": {
        "id": "vpzwWhbsTqnE",
        "colab_type": "code",
        "colab": {
          "base_uri": "https://localhost:8080/",
          "height": 379
        },
        "outputId": "92d8ab96-fd9b-4264-ba85-626f01c3fec2"
      },
      "source": [
        "rockPaperScissor()"
      ],
      "execution_count": null,
      "outputs": [
        {
          "output_type": "stream",
          "text": [
            "Please Enter your input out of - R | P | S = r\n",
            "Bot Entered -  r\n",
            " \n",
            " Winner is -  draw\n",
            " \n",
            "----Score board ----\n",
            "---PLAYER ----- 1\n",
            "---Bot -------- 1\n",
            " \n",
            "You want to end Y/N - n\n",
            "Please Enter your input out of - R | P | S = r\n",
            "Bot Entered -  r\n",
            " \n",
            " Winner is -  draw\n",
            " \n",
            "----Score board ----\n",
            "---PLAYER ----- 2\n",
            "---Bot -------- 2\n",
            " \n"
          ],
          "name": "stdout"
        }
      ]
    }
  ]
}