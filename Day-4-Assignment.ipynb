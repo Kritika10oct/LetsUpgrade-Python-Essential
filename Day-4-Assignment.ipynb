{
  "nbformat": 4,
  "nbformat_minor": 0,
  "metadata": {
    "colab": {
      "name": "Untitled2.ipynb",
      "provenance": [],
      "authorship_tag": "ABX9TyPWxsmOi7+iUOyDt2kNLn+c",
      "include_colab_link": true
    },
    "kernelspec": {
      "name": "python3",
      "display_name": "Python 3"
    }
  },
  "cells": [
    {
      "cell_type": "markdown",
      "metadata": {
        "id": "view-in-github",
        "colab_type": "text"
      },
      "source": [
        "<a href=\"https://colab.research.google.com/github/Kritika10oct/LetsUpgrade-Python-Essential/blob/master/Day-4-Assignment.ipynb\" target=\"_parent\"><img src=\"https://colab.research.google.com/assets/colab-badge.svg\" alt=\"Open In Colab\"/></a>"
      ]
    },
    {
      "cell_type": "markdown",
      "metadata": {
        "id": "HNYtxwQx0xPq",
        "colab_type": "text"
      },
      "source": [
        "Name:kritika Kumari,Email:kritikakumari7409@gmail.com"
      ]
    },
    {
      "cell_type": "markdown",
      "metadata": {
        "id": "YIYKxh1_1Cj5",
        "colab_type": "text"
      },
      "source": [
        "1.Print the first Armstrong number in the range 1042000 to 702648265 and exit the loop as soon  you encounter the first armstrong number?"
      ]
    },
    {
      "cell_type": "code",
      "metadata": {
        "id": "okhDwc240i5I",
        "colab_type": "code",
        "colab": {
          "base_uri": "https://localhost:8080/",
          "height": 34
        },
        "outputId": "3a67fe12-a7d7-4bc4-ac69-a2f41904f317"
      },
      "source": [
        "for num in range(1042000, 702648265):\n",
        "\n",
        "   order = len(str(num))\n",
        "    \n",
        "   sum = 0\n",
        "\n",
        "   temp = num\n",
        "   while temp > 0:\n",
        "       digit = temp % 10\n",
        "       sum += digit ** order\n",
        "       temp //= 10\n",
        "\n",
        "   if num == sum:\n",
        "       print(\"This is the first armstrong number:\",num)\n",
        "       break"
      ],
      "execution_count": 2,
      "outputs": [
        {
          "output_type": "stream",
          "text": [
            "this is the first armstrong number: 1741725\n"
          ],
          "name": "stdout"
        }
      ]
    }
  ]
}