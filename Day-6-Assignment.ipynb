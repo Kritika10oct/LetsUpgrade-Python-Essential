{
  "nbformat": 4,
  "nbformat_minor": 0,
  "metadata": {
    "colab": {
      "name": "Untitled5.ipynb",
      "provenance": [],
      "authorship_tag": "ABX9TyOKuZPNK8nDFM3UAsi68acs",
      "include_colab_link": true
    },
    "kernelspec": {
      "name": "python3",
      "display_name": "Python 3"
    }
  },
  "cells": [
    {
      "cell_type": "markdown",
      "metadata": {
        "id": "view-in-github",
        "colab_type": "text"
      },
      "source": [
        "<a href=\"https://colab.research.google.com/github/Kritika10oct/LetsUpgrade-Python-Essential/blob/master/Day-6-Assignment.ipynb\" target=\"_parent\"><img src=\"https://colab.research.google.com/assets/colab-badge.svg\" alt=\"Open In Colab\"/></a>"
      ]
    },
    {
      "cell_type": "markdown",
      "metadata": {
        "id": "ToSW89XviSYR",
        "colab_type": "text"
      },
      "source": [
        "Name:Kritika Kumari, Email:kritikakumari7409@gmail.com"
      ]
    },
    {
      "cell_type": "markdown",
      "metadata": {
        "id": "pN7r5vHLiHFn",
        "colab_type": "text"
      },
      "source": [
        " 1- For this challenge,create a bank account class that has two attributes\n",
        "\n",
        "ownerName and Balance\n",
        "\n",
        "And two methods\n",
        "\n",
        "deposit and withdraw\n",
        "\n",
        "As an added requirement,withdrawals may not exceed the available balance. Instantiate your class,make several deposits and withdrawals,and test to make sure the account cant be overdrawn"
      ]
    },
    {
      "cell_type": "code",
      "metadata": {
        "id": "7lTdJNpSfn2F",
        "colab_type": "code",
        "colab": {
          "base_uri": "https://localhost:8080/",
          "height": 326
        },
        "outputId": "548c502c-432e-44c8-d481-f83b50ac6f75"
      },
      "source": [
        "import random\n",
        "\n",
        "class bankAccount():\n",
        "  owner_name = ''\n",
        "  balance = 0\n",
        "\n",
        "\n",
        "  def __init__(self,owner_name,balance):\n",
        "    self.owner_name = owner_name\n",
        "    self.balance = balance\n",
        "  \n",
        "  def display_info(self):\n",
        "    print(\"Account_Holder_Name: \"+ self.owner_name, \"\\nTotal number of amount in your account: Rs.\"+ str(self.balance))\n",
        "  \n",
        "  def deposit(self):\n",
        "    print(\"=======================================================================================================\")\n",
        "    deposit_money = int(input(\"Enter the amount you want to deposit: \"))\n",
        "    print(\"You deposited: Rs.\"+str(deposit_money))\n",
        "    self.balance += deposit_money\n",
        "    print(\"Your total account balance: Rs.\"+ str(self.balance))\n",
        "\n",
        "  def withdraw(self):\n",
        "    print(\"=======================================================================================================\")\n",
        "    withdraw_amount = int(input(\"Enter the amount you want to withdraw: \"))\n",
        "    print(\"Your withdrawal amount\"+ str(withdraw_amount))\n",
        "    self.balance -= withdraw_amount\n",
        "    if self.balance > 0:\n",
        "      print(\"Your current balance: Rs.\"+ str(self.balance))\n",
        "    else:\n",
        "      print(\"Sorry we can't proceed, your current balance is very low\")\n",
        "\n",
        "print(\"===========================================================================================================\")\n",
        "name = input('\\nEnter Your Name : ')\n",
        "accountBal = random.choice(list(range(10000,50000)))\n",
        "\n",
        "obj = bankAccount(name,accountBal)\n",
        "obj.display_info()\n",
        "\n",
        "print(\"===========================================================================================================\")\n",
        "print(\"\\nWhat Do You Want To Do?\\n 1. Diposit Money\\n 2. Withdraw Money\")\n",
        "print(\"===========================================================================================================\")\n",
        "choice = int(input('\\nPlease Enter Your Choice(1 or 2): '))\n",
        "\n",
        "if choice == 1:\n",
        "    obj.deposit()\n",
        "elif choice ==2:\n",
        "    obj.withdraw()\n",
        "else:\n",
        "    print(\"Invalid Input.....\")"
      ],
      "execution_count": 1,
      "outputs": [
        {
          "output_type": "stream",
          "text": [
            "===========================================================================================================\n",
            "\n",
            "Enter Your Name : Kritika Kumari\n",
            "Account_Holder_Name: Kritika Kumari \n",
            "Total number of amount in your account: Rs.19392\n",
            "===========================================================================================================\n",
            "\n",
            "What Do You Want To Do?\n",
            " 1. Diposit Money\n",
            " 2. Withdraw Money\n",
            "===========================================================================================================\n",
            "\n",
            "Please Enter Your Choice(1 or 2): 1\n",
            "=======================================================================================================\n",
            "Enter the amount you want to deposit: 10000\n",
            "You deposited: Rs.10000\n",
            "Your total account balance: Rs.29392\n"
          ],
          "name": "stdout"
        }
      ]
    },
    {
      "cell_type": "code",
      "metadata": {
        "id": "uuxCPodpgudr",
        "colab_type": "code",
        "colab": {
          "base_uri": "https://localhost:8080/",
          "height": 326
        },
        "outputId": "d6877df2-7193-4e49-b726-84189c258d22"
      },
      "source": [
        "import random\n",
        "\n",
        "class bankAccount():\n",
        "  owner_name = ''\n",
        "  balance = 0\n",
        "\n",
        "\n",
        "  def __init__(self,owner_name,balance):\n",
        "    self.owner_name = owner_name\n",
        "    self.balance = balance\n",
        "  \n",
        "  def display_info(self):\n",
        "    print(\"Account_Holder_Name: \"+ self.owner_name, \"\\nTotal number of amount in your account: Rs.\"+ str(self.balance))\n",
        "  \n",
        "  def deposit(self):\n",
        "    print(\"=======================================================================================================\")\n",
        "    deposit_money = int(input(\"Enter the amount you want to deposit: \"))\n",
        "    print(\"You deposited: Rs.\"+str(deposit_money))\n",
        "    self.balance += deposit_money\n",
        "    print(\"Your total account balance: Rs.\"+ str(self.balance))\n",
        "\n",
        "  def withdraw(self):\n",
        "    print(\"=======================================================================================================\")\n",
        "    withdraw_amount = int(input(\"Enter the amount you want to withdraw: \"))\n",
        "    print(\"Your withdrawal amount\"+ str(withdraw_amount))\n",
        "    self.balance -= withdraw_amount\n",
        "    if self.balance > 0:\n",
        "      print(\"Your current balance: Rs.\"+ str(self.balance))\n",
        "    else:\n",
        "      print(\"Sorry we can't proceed, your current balance is very low\")\n",
        "\n",
        "print(\"===========================================================================================================\")\n",
        "name = input('\\nEnter Your Name : ')\n",
        "accountBal = random.choice(list(range(10000,50000)))\n",
        "\n",
        "obj = bankAccount(name,accountBal)\n",
        "obj.display_info()\n",
        "\n",
        "print(\"===========================================================================================================\")\n",
        "print(\"\\nWhat Do You Want To Do?\\n 1. Diposit Money\\n 2. Withdraw Money\")\n",
        "print(\"===========================================================================================================\")\n",
        "choice = int(input('\\nPlease Enter Your Choice(1 or 2): '))\n",
        "\n",
        "if choice == 1:\n",
        "    obj.deposit()\n",
        "elif choice ==2:\n",
        "    obj.withdraw()\n",
        "else:\n",
        "    print(\"Invalid Input.....\")"
      ],
      "execution_count": 4,
      "outputs": [
        {
          "output_type": "stream",
          "text": [
            "===========================================================================================================\n",
            "\n",
            "Enter Your Name : Kritika Kumari\n",
            "Account_Holder_Name: Kritika Kumari \n",
            "Total number of amount in your account: Rs.30595\n",
            "===========================================================================================================\n",
            "\n",
            "What Do You Want To Do?\n",
            " 1. Diposit Money\n",
            " 2. Withdraw Money\n",
            "===========================================================================================================\n",
            "\n",
            "Please Enter Your Choice(1 or 2): 2\n",
            "=======================================================================================================\n",
            "Enter the amount you want to withdraw: 30575\n",
            "Your withdrawal amount30575\n",
            "Your current balance: Rs.20\n"
          ],
          "name": "stdout"
        }
      ]
    },
    {
      "cell_type": "markdown",
      "metadata": {
        "id": "33zIyn2FiBCj",
        "colab_type": "text"
      },
      "source": [
        " 2- For this challenge,create a cone class that has two attributes:\n",
        "\n",
        "R=Radius and h=Height\n",
        "\n",
        "And two methods: Volume = Π r2 = (h/3) and Surface area : base : Π r2 , side : Π r √(r2 + h2) Make only one class with functions,as in where required import Math."
      ]
    },
    {
      "cell_type": "code",
      "metadata": {
        "id": "3isGmNM2huyf",
        "colab_type": "code",
        "colab": {
          "base_uri": "https://localhost:8080/",
          "height": 122
        },
        "outputId": "12dcf9ab-cf15-4261-fbaa-056aebca14c7"
      },
      "source": [
        "import math\n",
        "\n",
        "class Cone():\n",
        "  \n",
        "  radius = 0\n",
        "  height = 0\n",
        "  \n",
        "  def __init__(self,radius,height):\n",
        "    self.radius = radius\n",
        "    self.height = height\n",
        "\n",
        "  def volume(self):\n",
        "    vol = math.pi * self.radius ** 2 * (self.height / 3)\n",
        "    print(\"The volume is: \"+str(round(vol,2)))\n",
        "\n",
        "  def surfaceArea(self):\n",
        "    slant_height = math.sqrt(self.radius ** 2 + self.height ** 2)\n",
        "    area = math.pi * self.radius * slant_height \n",
        "    print(\"The area is: \"+str(round(area,2)))\n",
        "\n",
        "print(\"Enter the values:\")\n",
        "radius = float(input(\"Enter the value of radius: \"))\n",
        "height = float(input(\"Enter the value of height: \"))\n",
        "\n",
        "obj = Cone(radius,height)\n",
        "obj.volume()\n",
        "obj.surfaceArea()"
      ],
      "execution_count": 5,
      "outputs": [
        {
          "output_type": "stream",
          "text": [
            "Enter the values:\n",
            "Enter the value of radius: 4.4\n",
            "Enter the value of height: 11.2\n",
            "The volume is: 227.07\n",
            "The area is: 166.34\n"
          ],
          "name": "stdout"
        }
      ]
    }
  ]
}