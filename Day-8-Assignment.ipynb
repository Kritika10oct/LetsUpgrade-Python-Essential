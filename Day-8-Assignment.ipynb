{
  "nbformat": 4,
  "nbformat_minor": 0,
  "metadata": {
    "colab": {
      "name": "Untitled6.ipynb",
      "provenance": [],
      "collapsed_sections": [],
      "authorship_tag": "ABX9TyMRQVNP7pbV3fZhwW/VKUYM",
      "include_colab_link": true
    },
    "kernelspec": {
      "name": "python3",
      "display_name": "Python 3"
    }
  },
  "cells": [
    {
      "cell_type": "markdown",
      "metadata": {
        "id": "view-in-github",
        "colab_type": "text"
      },
      "source": [
        "<a href=\"https://colab.research.google.com/github/Kritika10oct/LetsUpgrade-Python-Essential/blob/master/Day-8-Assignment.ipynb\" target=\"_parent\"><img src=\"https://colab.research.google.com/assets/colab-badge.svg\" alt=\"Open In Colab\"/></a>"
      ]
    },
    {
      "cell_type": "markdown",
      "metadata": {
        "id": "_wkdYAUqcoZF",
        "colab_type": "text"
      },
      "source": [
        "Name-Kritika Kumari, Email-kritikakumari7409@gmail.com"
      ]
    },
    {
      "cell_type": "markdown",
      "metadata": {
        "id": "IMMnpdHCMq_N",
        "colab_type": "text"
      },
      "source": [
        "1-write a decorator function for your taking input for you any kind of function you want to build.\n",
        "for example - you make a fibonacci series function in which your input range is been defined by the decorator progra input."
      ]
    },
    {
      "cell_type": "code",
      "metadata": {
        "id": "LNOkuSRVUBZw",
        "colab_type": "code",
        "colab": {}
      },
      "source": [
        "def getInput(calculate_arg_fun):\n",
        "    \n",
        "    def wrap_function():\n",
        "    \n",
        "        a = int(input(\"\\nEnter First Number - \"))\n",
        "        \n",
        "        b = int(input(\"\\nEnter Second Number - \"))\n",
        "        \n",
        "        calculate_arg_fun(a,b)   \n",
        "    \n",
        "    return wrap_function\n"
      ],
      "execution_count": 3,
      "outputs": []
    },
    {
      "cell_type": "code",
      "metadata": {
        "id": "ZreF2dhcVfqY",
        "colab_type": "code",
        "colab": {}
      },
      "source": [
        "@getInput\n",
        " \n",
        "def OddFinder(start, last):\n",
        "    \n",
        "    print(\"\\nThe Even numbers in the range\",start,\"to\",last,\"is :\\n\")\n",
        " \n",
        "    for n in range(start, last + 1): \n",
        "      \n",
        "        if n % 2 != 0: \n",
        "            \n",
        "            print(n, end = \" \")"
      ],
      "execution_count": 4,
      "outputs": []
    },
    {
      "cell_type": "code",
      "metadata": {
        "id": "XI0-cqGlXJeb",
        "colab_type": "code",
        "colab": {
          "base_uri": "https://localhost:8080/",
          "height": 173
        },
        "outputId": "cd2372e1-4c7f-46b8-d7d0-4869c97f682c"
      },
      "source": [
        "OddFinder()"
      ],
      "execution_count": 6,
      "outputs": [
        {
          "output_type": "stream",
          "text": [
            "\n",
            "Enter First Number - 1\n",
            "\n",
            "Enter Second Number - 60\n",
            "\n",
            "The Even numbers in the range 1 to 60 is :\n",
            "\n",
            "1 3 5 7 9 11 13 15 17 19 21 23 25 27 29 31 33 35 37 39 41 43 45 47 49 51 53 55 57 59 "
          ],
          "name": "stdout"
        }
      ]
    },
    {
      "cell_type": "markdown",
      "metadata": {
        "id": "uGxYcm2FbbxV",
        "colab_type": "text"
      },
      "source": [
        "2-For this challenge you need to develop a python program to open a file in read only made and try writing something to it and handle the subsequent errors using Exception handling."
      ]
    },
    {
      "cell_type": "code",
      "metadata": {
        "id": "_R0C_WC7ZcXo",
        "colab_type": "code",
        "colab": {}
      },
      "source": [
        "file=open('jupyter.text','w')\n",
        "file.write(\"Hey whatsapp guys\")\n",
        "file.close()"
      ],
      "execution_count": 26,
      "outputs": []
    },
    {
      "cell_type": "code",
      "metadata": {
        "id": "XQjRE4ziZ_Xo",
        "colab_type": "code",
        "colab": {
          "base_uri": "https://localhost:8080/",
          "height": 35
        },
        "outputId": "d1b72c8f-6278-4665-9cd7-5ec69253932f"
      },
      "source": [
        "file=open('jupyter.text','r')\n",
        "file.read()"
      ],
      "execution_count": 27,
      "outputs": [
        {
          "output_type": "execute_result",
          "data": {
            "application/vnd.google.colaboratory.intrinsic+json": {
              "type": "string"
            },
            "text/plain": [
              "'Hey whatsapp guys'"
            ]
          },
          "metadata": {
            "tags": []
          },
          "execution_count": 27
        }
      ]
    },
    {
      "cell_type": "code",
      "metadata": {
        "id": "8VRAaf9Ya6cn",
        "colab_type": "code",
        "colab": {}
      },
      "source": [
        "file=open('jupyter.text','w')\n",
        "file.write(\"Hey here\")\n",
        "file.close()"
      ],
      "execution_count": 28,
      "outputs": []
    },
    {
      "cell_type": "code",
      "metadata": {
        "id": "BBk7af_bbGng",
        "colab_type": "code",
        "colab": {
          "base_uri": "https://localhost:8080/",
          "height": 34
        },
        "outputId": "e9eeae6e-90be-4379-b8aa-ef2c50f6a8ae"
      },
      "source": [
        "file=open('jupyter.text','r')\n",
        "file.close"
      ],
      "execution_count": 29,
      "outputs": [
        {
          "output_type": "execute_result",
          "data": {
            "text/plain": [
              "<function TextIOWrapper.close>"
            ]
          },
          "metadata": {
            "tags": []
          },
          "execution_count": 29
        }
      ]
    },
    {
      "cell_type": "code",
      "metadata": {
        "id": "y0h58npebSBv",
        "colab_type": "code",
        "colab": {}
      },
      "source": [
        "file.close()"
      ],
      "execution_count": 31,
      "outputs": []
    }
  ]
}