{
  "nbformat": 4,
  "nbformat_minor": 0,
  "metadata": {
    "colab": {
      "name": "Untitled4.ipynb",
      "provenance": [],
      "authorship_tag": "ABX9TyNsTf/vphBXL1KLrvsIhPDU",
      "include_colab_link": true
    },
    "kernelspec": {
      "name": "python3",
      "display_name": "Python 3"
    }
  },
  "cells": [
    {
      "cell_type": "markdown",
      "metadata": {
        "id": "view-in-github",
        "colab_type": "text"
      },
      "source": [
        "<a href=\"https://colab.research.google.com/github/Kritika10oct/LetsUpgrade-Python-Essential/blob/master/Day-5-Assignment.ipynb\" target=\"_parent\"><img src=\"https://colab.research.google.com/assets/colab-badge.svg\" alt=\"Open In Colab\"/></a>"
      ]
    },
    {
      "cell_type": "markdown",
      "metadata": {
        "id": "AkQ447ey6cEP",
        "colab_type": "text"
      },
      "source": [
        "Name:Kritika Kumari,Email:kritikakumari7409@gmail.com"
      ]
    },
    {
      "cell_type": "markdown",
      "metadata": {
        "id": "yPMVUjAq5_rY",
        "colab_type": "text"
      },
      "source": [
        " 1- Write a program to identify sub list [1,1,5] is there in the given list in the same order, if yes print “it’s a Match” if no then print “it’s Gone” in function.\n",
        "\n",
        "Example - Listy =[1,5,6,4,1,2,3,5] - it’s a Match\n",
        "\n",
        "Listy = [1,5,6,5,1,2,3,6] - it’s Gone"
      ]
    },
    {
      "cell_type": "code",
      "metadata": {
        "id": "z6MdiZ9Y3vLu",
        "colab_type": "code",
        "colab": {
          "base_uri": "https://localhost:8080/",
          "height": 156
        },
        "outputId": "e160ec58-19a0-4651-addf-52dc73e148e3"
      },
      "source": [
        "length = int(input(\"Enter the length of list \"))\n",
        "test=[1,1,5]\n",
        "lst=[]\n",
        "for i in range (0,length):\n",
        "    inp = int(input(\"Enter the number \"))\n",
        "    lst.append(inp)\n",
        "j=0\n",
        "for i in range (0,length):\n",
        "    if(lst[i] == test[j]):\n",
        "        j += 1\n",
        "        i += 1\n",
        "    else:\n",
        "        i += 1\n",
        "if(j == 3):\n",
        "    print (\"It's a match\")\n",
        "else:\n",
        "    print (\"It's Gone\")"
      ],
      "execution_count": 1,
      "outputs": [
        {
          "output_type": "stream",
          "text": [
            "Enter the length of list 5\n",
            "Enter the number 1\n",
            "Enter the number 3\n",
            "Enter the number 1\n",
            "Enter the number 4\n",
            "Enter the number 5\n",
            "It's a match\n"
          ],
          "name": "stdout"
        }
      ]
    },
    {
      "cell_type": "code",
      "metadata": {
        "id": "doR9Ff1W4Qtk",
        "colab_type": "code",
        "colab": {
          "base_uri": "https://localhost:8080/",
          "height": 156
        },
        "outputId": "2a065abb-4d28-43a8-9b22-cdf02d5eeca2"
      },
      "source": [
        "length = int(input(\"Enter the length of list \"))\n",
        "test=[1,1,5]\n",
        "lst=[]\n",
        "for i in range (0,length):\n",
        "    inp = int(input(\"Enter the number \"))\n",
        "    lst.append(inp)\n",
        "j=0\n",
        "for i in range (0,length):\n",
        "    if(lst[i] == test[j]):\n",
        "        j += 1\n",
        "        i += 1\n",
        "    else:\n",
        "        i += 1\n",
        "if(j == 3):\n",
        "    print (\"It's a match\")\n",
        "else:\n",
        "    print (\"It's Gone\")"
      ],
      "execution_count": 2,
      "outputs": [
        {
          "output_type": "stream",
          "text": [
            "Enter the length of list 5\n",
            "Enter the number 1\n",
            "Enter the number 5\n",
            "Enter the number 2\n",
            "Enter the number 5\n",
            "Enter the number 3\n",
            "It's Gone\n"
          ],
          "name": "stdout"
        }
      ]
    },
    {
      "cell_type": "markdown",
      "metadata": {
        "id": "0IYwidw_6J8R",
        "colab_type": "text"
      },
      "source": [
        " 2. Make a Function for prime numbers and use Filter to filter out all the prime numbers from 1-2500"
      ]
    },
    {
      "cell_type": "code",
      "metadata": {
        "id": "xOj06Hfb4u_y",
        "colab_type": "code",
        "colab": {
          "base_uri": "https://localhost:8080/",
          "height": 54
        },
        "outputId": "525dbcee-f3e9-4e05-effc-622b0a968108"
      },
      "source": [
        "def CheckPrime(num):\n",
        "  if num>1:\n",
        "    for j in range(2, num):\n",
        "      if  num % j==0:\n",
        "        return False\n",
        "        break\n",
        "    else:\n",
        "      return True\n",
        "\n",
        "c = filter(CheckPrime,range(1,2500))\n",
        "prime_list =(list(c))\n",
        "print(prime_list)"
      ],
      "execution_count": 3,
      "outputs": [
        {
          "output_type": "stream",
          "text": [
            "[2, 3, 5, 7, 11, 13, 17, 19, 23, 29, 31, 37, 41, 43, 47, 53, 59, 61, 67, 71, 73, 79, 83, 89, 97, 101, 103, 107, 109, 113, 127, 131, 137, 139, 149, 151, 157, 163, 167, 173, 179, 181, 191, 193, 197, 199, 211, 223, 227, 229, 233, 239, 241, 251, 257, 263, 269, 271, 277, 281, 283, 293, 307, 311, 313, 317, 331, 337, 347, 349, 353, 359, 367, 373, 379, 383, 389, 397, 401, 409, 419, 421, 431, 433, 439, 443, 449, 457, 461, 463, 467, 479, 487, 491, 499, 503, 509, 521, 523, 541, 547, 557, 563, 569, 571, 577, 587, 593, 599, 601, 607, 613, 617, 619, 631, 641, 643, 647, 653, 659, 661, 673, 677, 683, 691, 701, 709, 719, 727, 733, 739, 743, 751, 757, 761, 769, 773, 787, 797, 809, 811, 821, 823, 827, 829, 839, 853, 857, 859, 863, 877, 881, 883, 887, 907, 911, 919, 929, 937, 941, 947, 953, 967, 971, 977, 983, 991, 997, 1009, 1013, 1019, 1021, 1031, 1033, 1039, 1049, 1051, 1061, 1063, 1069, 1087, 1091, 1093, 1097, 1103, 1109, 1117, 1123, 1129, 1151, 1153, 1163, 1171, 1181, 1187, 1193, 1201, 1213, 1217, 1223, 1229, 1231, 1237, 1249, 1259, 1277, 1279, 1283, 1289, 1291, 1297, 1301, 1303, 1307, 1319, 1321, 1327, 1361, 1367, 1373, 1381, 1399, 1409, 1423, 1427, 1429, 1433, 1439, 1447, 1451, 1453, 1459, 1471, 1481, 1483, 1487, 1489, 1493, 1499, 1511, 1523, 1531, 1543, 1549, 1553, 1559, 1567, 1571, 1579, 1583, 1597, 1601, 1607, 1609, 1613, 1619, 1621, 1627, 1637, 1657, 1663, 1667, 1669, 1693, 1697, 1699, 1709, 1721, 1723, 1733, 1741, 1747, 1753, 1759, 1777, 1783, 1787, 1789, 1801, 1811, 1823, 1831, 1847, 1861, 1867, 1871, 1873, 1877, 1879, 1889, 1901, 1907, 1913, 1931, 1933, 1949, 1951, 1973, 1979, 1987, 1993, 1997, 1999, 2003, 2011, 2017, 2027, 2029, 2039, 2053, 2063, 2069, 2081, 2083, 2087, 2089, 2099, 2111, 2113, 2129, 2131, 2137, 2141, 2143, 2153, 2161, 2179, 2203, 2207, 2213, 2221, 2237, 2239, 2243, 2251, 2267, 2269, 2273, 2281, 2287, 2293, 2297, 2309, 2311, 2333, 2339, 2341, 2347, 2351, 2357, 2371, 2377, 2381, 2383, 2389, 2393, 2399, 2411, 2417, 2423, 2437, 2441, 2447, 2459, 2467, 2473, 2477]\n"
          ],
          "name": "stdout"
        }
      ]
    },
    {
      "cell_type": "markdown",
      "metadata": {
        "id": "rxZNPnir6Wwr",
        "colab_type": "text"
      },
      "source": [
        " 3. Make a Lambda function for capitalizing the whole sentence passed using arguments. And map all the sentences in the List, with the lambda functions"
      ]
    },
    {
      "cell_type": "code",
      "metadata": {
        "id": "semgFlSl4_Qr",
        "colab_type": "code",
        "colab": {
          "base_uri": "https://localhost:8080/",
          "height": 34
        },
        "outputId": "628a1173-15bf-4afc-8afb-655e3a9d8823"
      },
      "source": [
        "my_list = [\"hey this is Kritika\",\"i am from delhi\"]\n",
        "capital =list(map(lambda c: c.upper(),my_list))\n",
        "print(capital)"
      ],
      "execution_count": 6,
      "outputs": [
        {
          "output_type": "stream",
          "text": [
            "['HEY THIS IS KRITIKA', 'I AM FROM DELHI']\n"
          ],
          "name": "stdout"
        }
      ]
    }
  ]
}