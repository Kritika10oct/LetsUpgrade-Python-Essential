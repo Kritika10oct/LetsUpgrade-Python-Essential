{
  "nbformat": 4,
  "nbformat_minor": 0,
  "metadata": {
    "colab": {
      "name": "Untitled1.ipynb",
      "provenance": [],
      "authorship_tag": "ABX9TyMD9hWP9kJyxDpnhfqjqEgo",
      "include_colab_link": true
    },
    "kernelspec": {
      "name": "python3",
      "display_name": "Python 3"
    }
  },
  "cells": [
    {
      "cell_type": "markdown",
      "metadata": {
        "id": "view-in-github",
        "colab_type": "text"
      },
      "source": [
        "<a href=\"https://colab.research.google.com/github/Kritika10oct/LetsUpgrade-Python-Essential/blob/master/Day-3-Assignment.ipynb\" target=\"_parent\"><img src=\"https://colab.research.google.com/assets/colab-badge.svg\" alt=\"Open In Colab\"/></a>"
      ]
    },
    {
      "cell_type": "markdown",
      "metadata": {
        "id": "u2u1viYlhcHi",
        "colab_type": "text"
      },
      "source": [
        "Name:kritika Kumari , Email:kritikakumari7409@gmail.com\n",
        "1. You all are pilots, you want to land a plane safely , so WAP to take current altitude as input and check weather the altitude is less than 1000ft or more than 1000ft and if its less than 5000ft ask pilot to bring it further down to 1000ft and it is more than 5000ft then ask pilotto turn around and attempt later? "
      ]
    },
    {
      "cell_type": "code",
      "metadata": {
        "id": "sVektS-0iib5",
        "colab_type": "code",
        "colab": {
          "base_uri": "https://localhost:8080/",
          "height": 88
        },
        "outputId": "3f2d4028-ac9b-491c-a643-8c544ae4ae6f"
      },
      "source": [
        "altitude = input(\"Enter the altitude-\")\n",
        "altitude = int(altitude)\n",
        "if 1000<=altitude:\n",
        "  print(\"safe to land\")\n",
        "  if 5000>altitude:\n",
        "    print(\"bring down the 1000ft\")\n",
        "    if 5000<altitude:\n",
        "     print(\"Turn around\")\n"
      ],
      "execution_count": 30,
      "outputs": [
        {
          "output_type": "stream",
          "text": [
            "Enter the altitude-4500\n",
            "safe to land\n",
            "bring down the 1000ft\n"
          ],
          "name": "stdout"
        }
      ]
    },
    {
      "cell_type": "markdown",
      "metadata": {
        "id": "u4ZEwPd1lkMC",
        "colab_type": "text"
      },
      "source": [
        "2.Using for loopplease print all the prime number between 1to200 using for loop and range function?"
      ]
    },
    {
      "cell_type": "code",
      "metadata": {
        "id": "rh-YLduEl9SR",
        "colab_type": "code",
        "colab": {
          "base_uri": "https://localhost:8080/",
          "height": 816
        },
        "outputId": "6d11fbf5-0d3a-4035-b7a0-3f988052c657"
      },
      "source": [
        "start = 1\n",
        "end = 200\n",
        "  \n",
        "for i in range(start,end): \n",
        "    for j in range(2,i): \n",
        "        if(i % j==0): \n",
        "            break\n",
        "    else: \n",
        "        print(i)"
      ],
      "execution_count": 55,
      "outputs": [
        {
          "output_type": "stream",
          "text": [
            "1\n",
            "2\n",
            "3\n",
            "5\n",
            "7\n",
            "11\n",
            "13\n",
            "17\n",
            "19\n",
            "23\n",
            "29\n",
            "31\n",
            "37\n",
            "41\n",
            "43\n",
            "47\n",
            "53\n",
            "59\n",
            "61\n",
            "67\n",
            "71\n",
            "73\n",
            "79\n",
            "83\n",
            "89\n",
            "97\n",
            "101\n",
            "103\n",
            "107\n",
            "109\n",
            "113\n",
            "127\n",
            "131\n",
            "137\n",
            "139\n",
            "149\n",
            "151\n",
            "157\n",
            "163\n",
            "167\n",
            "173\n",
            "179\n",
            "181\n",
            "191\n",
            "193\n",
            "197\n",
            "199\n"
          ],
          "name": "stdout"
        }
      ]
    }
  ]
}