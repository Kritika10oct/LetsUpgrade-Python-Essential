{
  "nbformat": 4,
  "nbformat_minor": 0,
  "metadata": {
    "colab": {
      "name": "Untitled7.ipynb",
      "provenance": [],
      "authorship_tag": "ABX9TyNVRtQbAOPyplbdFt0yhLEC",
      "include_colab_link": true
    },
    "kernelspec": {
      "name": "python3",
      "display_name": "Python 3"
    }
  },
  "cells": [
    {
      "cell_type": "markdown",
      "metadata": {
        "id": "view-in-github",
        "colab_type": "text"
      },
      "source": [
        "<a href=\"https://colab.research.google.com/github/Kritika10oct/LetsUpgrade-Python-Essential/blob/master/Day-9-Assignment.ipynb\" target=\"_parent\"><img src=\"https://colab.research.google.com/assets/colab-badge.svg\" alt=\"Open In Colab\"/></a>"
      ]
    },
    {
      "cell_type": "markdown",
      "metadata": {
        "id": "G4A6x1-kZzks",
        "colab_type": "text"
      },
      "source": [
        "Name:Kritika Kumari ,Email:kritikakumari7409@gmail.com"
      ]
    },
    {
      "cell_type": "markdown",
      "metadata": {
        "id": "AwJ44CONZpg8",
        "colab_type": "text"
      },
      "source": [
        "1- Write a python Function for finding is a given number prime or not and do Unit Testing on it using PyLint and Unittest Library."
      ]
    },
    {
      "cell_type": "code",
      "metadata": {
        "id": "59NZx54rZkKy",
        "colab_type": "code",
        "colab": {
          "base_uri": "https://localhost:8080/",
          "height": 411
        },
        "outputId": "d7fe7626-8238-41a8-d559-87105cbb0d4e"
      },
      "source": [
        " pip install pylint"
      ],
      "execution_count": 4,
      "outputs": [
        {
          "output_type": "stream",
          "text": [
            "Collecting pylint\n",
            "\u001b[?25l  Downloading https://files.pythonhosted.org/packages/fb/13/519c1264a134beab2be4bac8dd3e64948980a5ca7833b31cf0255b21f20a/pylint-2.6.0-py3-none-any.whl (325kB)\n",
            "\u001b[K     |████████████████████████████████| 327kB 4.3MB/s \n",
            "\u001b[?25hCollecting isort<6,>=4.2.5\n",
            "\u001b[?25l  Downloading https://files.pythonhosted.org/packages/d1/25/7ed95ccb07d3ce52598f5a57d002da6a18074ea8749991b10936cc20e539/isort-5.5.2-py3-none-any.whl (95kB)\n",
            "\u001b[K     |████████████████████████████████| 102kB 6.2MB/s \n",
            "\u001b[?25hRequirement already satisfied: toml>=0.7.1 in /usr/local/lib/python3.6/dist-packages (from pylint) (0.10.1)\n",
            "Collecting astroid<=2.5,>=2.4.0\n",
            "\u001b[?25l  Downloading https://files.pythonhosted.org/packages/24/a8/5133f51967fb21e46ee50831c3f5dda49e976b7f915408d670b1603d41d6/astroid-2.4.2-py3-none-any.whl (213kB)\n",
            "\u001b[K     |████████████████████████████████| 215kB 10.0MB/s \n",
            "\u001b[?25hCollecting mccabe<0.7,>=0.6\n",
            "  Downloading https://files.pythonhosted.org/packages/87/89/479dc97e18549e21354893e4ee4ef36db1d237534982482c3681ee6e7b57/mccabe-0.6.1-py2.py3-none-any.whl\n",
            "Requirement already satisfied: wrapt~=1.11 in /usr/local/lib/python3.6/dist-packages (from astroid<=2.5,>=2.4.0->pylint) (1.12.1)\n",
            "Requirement already satisfied: six~=1.12 in /usr/local/lib/python3.6/dist-packages (from astroid<=2.5,>=2.4.0->pylint) (1.15.0)\n",
            "Collecting typed-ast<1.5,>=1.4.0; implementation_name == \"cpython\" and python_version < \"3.8\"\n",
            "\u001b[?25l  Downloading https://files.pythonhosted.org/packages/90/ed/5459080d95eb87a02fe860d447197be63b6e2b5e9ff73c2b0a85622994f4/typed_ast-1.4.1-cp36-cp36m-manylinux1_x86_64.whl (737kB)\n",
            "\u001b[K     |████████████████████████████████| 747kB 11.4MB/s \n",
            "\u001b[?25hCollecting lazy-object-proxy==1.4.*\n",
            "\u001b[?25l  Downloading https://files.pythonhosted.org/packages/0b/dd/b1e3407e9e6913cf178e506cd0dee818e58694d9a5cd1984e3f6a8b9a10f/lazy_object_proxy-1.4.3-cp36-cp36m-manylinux1_x86_64.whl (55kB)\n",
            "\u001b[K     |████████████████████████████████| 61kB 5.5MB/s \n",
            "\u001b[?25hInstalling collected packages: isort, typed-ast, lazy-object-proxy, astroid, mccabe, pylint\n",
            "Successfully installed astroid-2.4.2 isort-5.5.2 lazy-object-proxy-1.4.3 mccabe-0.6.1 pylint-2.6.0 typed-ast-1.4.1\n"
          ],
          "name": "stdout"
        }
      ]
    },
    {
      "cell_type": "code",
      "metadata": {
        "id": "ZWJxShBflnbe",
        "colab_type": "code",
        "colab": {
          "base_uri": "https://localhost:8080/",
          "height": 34
        },
        "outputId": "3e691a6c-8a1f-4704-efbd-2b82398caa2d"
      },
      "source": [
        "%%writefile prime.py\n",
        "def is_prime(num):\n",
        "    if num >= 1:\n",
        "        for i in range(2, num):\n",
        "            if (num % i) == 0:\n",
        "                result = \"Not Prime\"\n",
        "            else:\n",
        "                result = \"Prime\"\n",
        "    else:\n",
        "        result = \"Not Prime\"\n",
        "    return result"
      ],
      "execution_count": 8,
      "outputs": [
        {
          "output_type": "stream",
          "text": [
            "Overwriting prime.py\n"
          ],
          "name": "stdout"
        }
      ]
    },
    {
      "cell_type": "code",
      "metadata": {
        "id": "7oPbLxXZmG63",
        "colab_type": "code",
        "colab": {
          "base_uri": "https://localhost:8080/",
          "height": 153
        },
        "outputId": "03cae1bf-a1b8-4700-93b7-591fc34db479"
      },
      "source": [
        "! pylint \"prime.py\""
      ],
      "execution_count": 11,
      "outputs": [
        {
          "output_type": "stream",
          "text": [
            "************* Module prime\n",
            "prime.py:10:0: C0304: Final newline missing (missing-final-newline)\n",
            "prime.py:1:0: C0114: Missing module docstring (missing-module-docstring)\n",
            "prime.py:1:0: C0116: Missing function or method docstring (missing-function-docstring)\n",
            "\n",
            "-----------------------------------\n",
            "Your code has been rated at 6.25/10\n",
            "\n"
          ],
          "name": "stdout"
        }
      ]
    },
    {
      "cell_type": "code",
      "metadata": {
        "id": "DpYXzYAPmqO5",
        "colab_type": "code",
        "colab": {
          "base_uri": "https://localhost:8080/",
          "height": 34
        },
        "outputId": "7bc8fc19-d5d0-450c-f4c1-86e5704b9746"
      },
      "source": [
        "%%writefile primeUnitTest.py\n",
        "import unittest\n",
        "import prime\n",
        "\n",
        "class testPrime(unittest.TestCase):\n",
        "    def testSinglePrime(self):\n",
        "        a = 11\n",
        "        result = prime.is_prime(a)\n",
        "        self.assertEquals(result, \"Prime\")\n",
        "        \n",
        "    def testingDoublePrime(self):\n",
        "        b = 17 \n",
        "        result = prime.is_prime(b)\n",
        "        self.assertEquals(result, \"Prime\")\n",
        "\n",
        "if __name__ == \"__main__\":\n",
        "    unittest.main()"
      ],
      "execution_count": 12,
      "outputs": [
        {
          "output_type": "stream",
          "text": [
            "Writing primeUnitTest.py\n"
          ],
          "name": "stdout"
        }
      ]
    },
    {
      "cell_type": "code",
      "metadata": {
        "id": "lm1hOJMlm2QV",
        "colab_type": "code",
        "colab": {
          "base_uri": "https://localhost:8080/",
          "height": 102
        },
        "outputId": "456054f9-5079-4f8c-b65b-19b5a9df5e38"
      },
      "source": [
        "! python \"primeUnitTest.py\""
      ],
      "execution_count": 13,
      "outputs": [
        {
          "output_type": "stream",
          "text": [
            "..\n",
            "----------------------------------------------------------------------\n",
            "Ran 2 tests in 0.000s\n",
            "\n",
            "OK\n"
          ],
          "name": "stdout"
        }
      ]
    },
    {
      "cell_type": "markdown",
      "metadata": {
        "id": "_jHxTIlxZJb4",
        "colab_type": "text"
      },
      "source": [
        "2: Make a small generator program for returning armstrong numbers in between 1-1000 in a generator object."
      ]
    },
    {
      "cell_type": "code",
      "metadata": {
        "id": "yYooNYA_OLN_",
        "colab_type": "code",
        "colab": {}
      },
      "source": [
        "def Armstrong(a,b):\n",
        "    for num in range(a,b+1):\n",
        "        order = len(str(num))\n",
        "        sum = 0\n",
        "        temp = num\n",
        "        while temp > 0:\n",
        "            digit = temp % 10\n",
        "            sum += digit ** order\n",
        "            temp //= 10\n",
        "        if num == sum:\n",
        "            yield num"
      ],
      "execution_count": 2,
      "outputs": []
    },
    {
      "cell_type": "code",
      "metadata": {
        "id": "toRy1sTrYyHA",
        "colab_type": "code",
        "colab": {
          "base_uri": "https://localhost:8080/",
          "height": 34
        },
        "outputId": "21d2884c-6440-44db-bcae-c82ac50eaf73"
      },
      "source": [
        "Numbers = Armstrong(1, 1000)\n",
        "list(Numbers)"
      ],
      "execution_count": 3,
      "outputs": [
        {
          "output_type": "execute_result",
          "data": {
            "text/plain": [
              "[1, 2, 3, 4, 5, 6, 7, 8, 9, 153, 370, 371, 407]"
            ]
          },
          "metadata": {
            "tags": []
          },
          "execution_count": 3
        }
      ]
    }
  ]
}